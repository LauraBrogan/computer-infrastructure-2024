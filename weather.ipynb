{
 "cells": [
  {
   "cell_type": "markdown",
   "metadata": {},
   "source": [
    "# Computer Infrastructure Assessment 2024"
   ]
  },
  {
   "cell_type": "markdown",
   "metadata": {},
   "source": [
    "This Assessment consists of 9 tasks in total. \n",
    "The first part of the assessment is to explain how I completed the first seven tasks.\n",
    "To start I will import the below libraries:\n"
   ]
  },
  {
   "cell_type": "code",
   "execution_count": 1,
   "metadata": {},
   "outputs": [],
   "source": [
    "# Data Frames\n",
    "import pandas as pd"
   ]
  },
  {
   "cell_type": "markdown",
   "metadata": {},
   "source": [
    "### Task 1\n",
    "**Create Directory Structure**\n",
    "\n",
    "Using the command line, create a directory (that is, a folder) named data at the root of your repository. Inside data, create two subdirectories: *timestamps* and *weather*."
   ]
  },
  {
   "cell_type": "markdown",
   "metadata": {},
   "source": [
    "**Explanation of How Task was Completed:**\n",
    "\n",
    "To complete this task on the command line at the root of the repository I used the following the command \"mkdir data\".\n",
    "While in the main folder this created the directory. I then added \"mkdir data/weather\" and \"mkdir data/timestamps\" to get the two subdirectories. When I had that completed, I put in the \"ls\" command to see if the directories were there, and I then entered the directory data and used the ls command again to check for the weather and timestamps directories. When conducting this task and pushing it back to my Git Hub repository it did not show the weather or timestamps files until they actually contained something, so to test if it had worked, I had to create a file which I subsequently deleted. \n",
    "Below are the exact commands used on the command line to create the required directories for task One."
   ]
  },
  {
   "cell_type": "markdown",
   "metadata": {},
   "source": [
    "@LauraBrogan ➜/workspaces/computer-infrastructure-2024 (main) $ mkdir data\n",
    "\n",
    "@LauraBrogan ➜/workspaces/computer-infrastructure-2024 (main) $ mkdir data/weather\n",
    "\n",
    "@LauraBrogan ➜/workspaces/computer-infrastructure-2024 (main) $ mkdir data/timestamps\n",
    "\n",
    "@LauraBrogan ➜/workspaces/computer-infrastructure-2024 (main) $ ls\n",
    "\n",
    "@LauraBrogan ➜/workspaces/computer-infrastructure-2024 (main) $ cd data\n",
    "\n",
    "@LauraBrogan ➜/workspaces/computer-infrastructure-2024 (main) $ ls"
   ]
  },
  {
   "cell_type": "markdown",
   "metadata": {},
   "source": [
    "### Task 2\n",
    "**Timestamps**\n",
    "\n",
    "Navigate to the *data/timestamps* directory. Use the date command to output the current date and time, appending the output to a file named *now.txt*. Make sure to use the >> operator to append (not overwrite) the file. Repeat this step ten times, then use the more command to verify that *now.txt* has the expected content."
   ]
  },
  {
   "cell_type": "markdown",
   "metadata": {},
   "source": [
    "**Explanation of How Task was Completed:**\n",
    "\n",
    "To complete this, task I had to consult *Ubuntu in order to learn how to correctly append the output to a file named *now.txt*"
   ]
  },
  {
   "cell_type": "markdown",
   "metadata": {},
   "source": [
    "**1. Navigating to the *date/timestamps* directory.**\n",
    "\n",
    "@LauraBrogan ➜/workspaces/computer-infrastructure-2024/data/timestamps (main) $\n",
    "\n",
    "**2. using the date command to output the current date and time.**\n",
    "\n",
    "@LauraBrogan ➜/workspaces/computer-infrastructure-2024/data/timestamps (main) $ date\n",
    "\n",
    "Output: Sun Oct 13 12:45:27 UTC 2024\n",
    "\n",
    "**3. Using the >> operator to append not overwrite the file. I then repeated this ten times.** \n",
    "\n",
    "@LauraBrogan ➜/workspaces/computer-infrastructure-2024/data/timestamps (main) $ date >> now.txt\n",
    "\n",
    "**4. Using the *more* command to verify**\n",
    "\n",
    "@LauraBrogan ➜/workspaces/computer-infrastructure-2024/data/timestamps (main) $ more - now.txt\n",
    "\n",
    "Sun Oct 13 12:45:37 UTC 2024\n",
    "\n",
    "Sun Oct 13 12:46:01 UTC 2024\n",
    "\n",
    "Sun Oct 13 12:46:02 UTC 2024\n",
    "\n",
    "Sun Oct 13 12:46:03 UTC 2024\n",
    "\n",
    "Sun Oct 13 12:46:04 UTC 2024\n",
    "\n",
    "Sun Oct 13 12:46:05 UTC 2024\n",
    "\n",
    "Sun Oct 13 12:46:05 UTC 2024\n",
    "\n",
    "Sun Oct 13 12:46:06 UTC 2024\n",
    "\n",
    "Sun Oct 13 12:46:07 UTC 2024\n",
    "\n",
    "Sun Oct 13 12:46:08 UTC 2024\n",
    "\n",
    "Sun Oct 13 12:46:08 UTC 2024\n"
   ]
  },
  {
   "cell_type": "markdown",
   "metadata": {},
   "source": [
    "### Task 3\n",
    "**Formatting Timestamps** \n",
    "\n",
    "Run the date command again, but this time format the output using *YYYYmmdd_HHMMSS* (e.g., 20261114_130003 for 1:00:03 PM on November 14, 2026). Refer to the date man page (using *man* date) for more formatting options. (Press q to exit the man page). Append the formatted output to a file named *formatted.txt*."
   ]
  },
  {
   "cell_type": "markdown",
   "metadata": {},
   "source": [
    "**Explanation of How Task was Completed:**\n",
    "\n",
    "To complete this task, I first had to use the command *'man date' on the command line to look at the manual to see what code was required. The manual was detailed and by following it I generated the code below. "
   ]
  },
  {
   "cell_type": "markdown",
   "metadata": {},
   "source": [
    "The following code will show the filename used to store the data file.\n",
    "```bash\n",
    "date +\"%Y%m%d_%H%M%S.json\"\n",
    "```\n",
    "From the manual I learned that *date* at the start of the command would print or set the system date and time and that a plus sign *+* would format how that date was displayed.\n",
    " I then found that:\n",
    "\n",
    "- The '%Y' is for year and would be replaced by the four-digit year.\n",
    "\n",
    "- The '%m' is month (01..12) this would place the month next.\n",
    "\n",
    "- The '%d' day of the month (e.g., 01) this would place the day.\n",
    "\n",
    "- The '%H' hour (00..23)\n",
    "\n",
    "- The '%M' minute (00..59)\n",
    "\n",
    "- The '%S' second (00..60)\n",
    "\n",
    "From this I learned that Capital and lower-case letters also made different commands. "
   ]
  },
  {
   "cell_type": "markdown",
   "metadata": {},
   "source": [
    "Once I had reviewed the date man page and knew the code requirements as explained above, I could run the date command formatting the output using *YYYYmmdd_HHMMSS* (e.g., 20261114_130003 for 1:00:03 PM on November 14, 2026)\n",
    "\n",
    "@LauraBrogan ➜/workspaces/computer-infrastructure-2024/data/timestamps (main) $ date +\"%Y%m%d_%H%M%S\" \n"
   ]
  },
  {
   "cell_type": "markdown",
   "metadata": {},
   "source": [
    "Having learned in task two how to append output to file name I then ran the following code in the command line.\n",
    "\n",
    "@LauraBrogan ➜/workspaces/computer-infrastructure-2024/data/timestamps (main) $ date +\"%Y%m%d_%H%M%S\" >> formatted.txt"
   ]
  },
  {
   "cell_type": "markdown",
   "metadata": {},
   "source": [
    "### Task 4\n",
    "**Create Timestamped Files**\n",
    "\n",
    "Use the *touch* command to create an empty file with a name in the *YYYYmmdd_HHMMSS.txt* format. You can achieve this by embedding your date command in backticks ` into the touch command. You should no longer use redirection (>>) in this step."
   ]
  },
  {
   "cell_type": "markdown",
   "metadata": {},
   "source": [
    "**Explanation of How Task was Completed:**\n",
    "\n",
    "To complete this task, I reviewed some material on *phoenixnap as to how the touch command works. \"The touch command creates a file only if the file doesn't already exist. \n",
    "To create the empty file with the date as a text file I ran the below command on the command line. "
   ]
  },
  {
   "cell_type": "markdown",
   "metadata": {},
   "source": [
    "@LauraBrogan ➜/workspaces/computer-infrastructure-2024/data/timestamps (main) $ touch `date +\"%Y%m%d_%H%M%S\"`\n",
    "\n",
    "I then ran the *ls* command to verify the file was created and I could see 20241020_100237.txt file. "
   ]
  },
  {
   "cell_type": "markdown",
   "metadata": {},
   "source": [
    "### Task 5\n",
    " **Download Today's Weather Data**\n",
    "\n",
    "Change to the *data/weather* directory. Download the latest weather data for the Athenry weather station from Met Eireann using *wget*. Use the -O <filename> option to save the file as weather.json. The data can be found at this URL:\n",
    "https://prodapi.metweb.ie/observations/athenry/today."
   ]
  },
  {
   "cell_type": "markdown",
   "metadata": {},
   "source": [
    "**Explanation of How Task was Completed:**\n",
    "\n",
    "To complete this task, I first looked and the manual for *wget*,  What I was trying to find was a way to ask the command line to go to the ULR for Athenry Weather station obtain the latest weather data and store that data in a json file called weather. From the manual I found that Dash Capital O would do this. So, I inputted it like this to the command line. "
   ]
  },
  {
   "cell_type": "markdown",
   "metadata": {},
   "source": [
    "@LauraBrogan ➜/workspaces/computer-infrastructure-2024/data/weather (main) $ wget -O weather.json https://prodapi.metweb.ie/observations/athenry/today"
   ]
  },
  {
   "cell_type": "markdown",
   "metadata": {},
   "source": [
    "Following this command, I ran the *ls* command and found that the json file called weather had been created and within this file was all the weather information listed. \n",
    "\n",
    "*[{\"name\":\"Athenry\",\"temperature\":\"12\",\"symbol\":\"04n\",\"weatherDescription\":\"Cloudy\",\"text\":\"\\\"Cloudy\\\"\",\"windSpeed\":\"13\",\"windGust\":\"-\",\"cardinalWindDirection\":\"E\",\"windDirection\":90,\"humidity\":\" 92 \",\"rainfall\":\" 0.0 \",\"pressure\":\"1020\",\"dayName\":\"Saturday\",\"date\":\"09-11-2024\",\"reportTime\":\"00:00\"},{\"name\":\"Athenry\",\"temperature\":\"12\",\"symbol\":\"04n\",\"weatherDescription\":\"Cloudy\",\"text\":\"\\\"Cloudy\\\"\",\"windSpeed\":\"15\",\"windGust\":\"-\",\"cardinalWindDirection\":\"E\",\"windDirection\":90,\"humidity\":\" 93 \",\"rainfall\":\" 0.0 \",\"pressure\":\"1020\",\"dayName\":\"Saturday\",\"date\":\"09-11-2024\",\"reportTime\":\"01:00\"},{\"name\":\"Athenry\",\"temperature\":\"12\",\"symbol\":\"15n\",\"weatherDescription\":\"Fog \\/ Mist\",\"text\":\"\\\"Mist\\\"\",\"windSpeed\":\"11\",\"windGust\":\"-\",\"cardinalWindDirection\":\"E\",\"windDirection\":90,\"humidity\":\" 95 \",\"rainfall\":\" 0.0 \",\"pressure\":\"1020\",\"dayName\":\"Saturday\",\"date\":\"09-11-2024\",\"reportTime\":\"02:00\"},{\"name\":\"Athenry\",\"temperature\":\"12\",\"symbol\":\"15n\",\"weatherDescription\":\"Fog \\/ Mist\",\"text\":\"\\\"Mist\\\"\",\"windSpeed\":\"11\",\"windGust\":\"-\",\"cardinalWindDirection\":\"E\",\"windDirection\":90,\"humidity\":\" 95 \",\"rainfall\":\" 0.0 \",\"pressure\":\"1020\",\"dayName\":\"Saturday\",\"date\":\"09-11-2024\",\"reportTime\":\"03:00\"},{\"name\":\"Athenry\",\"temperature\":\"12\",\"symbol\":\"15n\",\"weatherDescription\":\"Fog \\/ Mist\",\"text\":\"\\\"Mist\\\"\",\"windSpeed\":\"11\",\"windGust\":\"-\",\"cardinalWindDirection\":\"SE\",\"windDirection\":135,\"humidity\":\" 93 \",\"rainfall\":\" 0.0 \",\"pressure\":\"1020\",\"dayName\":\"Saturday\",\"date\":\"09-11-2024\",\"reportTime\":\"04:00\"},{\"name\":\"Athenry\",\"temperature\":\"12\",\"symbol\":\"15n\",\"weatherDescription\":\"Fog \\/ Mist\",\"text\":\"\\\"Mist\\\"\",\"windSpeed\":\"9\",\"windGust\":\"-\",\"cardinalWindDirection\":\"SE\",\"windDirection\":135,\"humidity\":\" 92 \",\"rainfall\":\" 0.0 \",\"pressure\":\"1020\",\"dayName\":\"Saturday\",\"date\":\"09-11-2024\",\"reportTime\":\"05:00\"},{\"name\":\"Athenry\",\"temperature\":\"12\",\"symbol\":\"15n\",\"weatherDescription\":\"Fog \\/ Mist\",\"text\":\"\\\"Mist\\\"\",\"windSpeed\":\"11\",\"windGust\":\"-\",\"cardinalWindDirection\":\"SE\",\"windDirection\":135,\"humidity\":\" 92 \",\"rainfall\":\" 0.0 \",\"pressure\":\"1020\",\"dayName\":\"Saturday\",\"date\":\"09-11-2024\",\"reportTime\":\"06:00\"},{\"name\":\"Athenry\",\"temperature\":\"12\",\"symbol\":\"04n\",\"weatherDescription\":\"Cloudy\",\"text\":\"\\\"Cloudy\\\"\",\"windSpeed\":\"9\",\"windGust\":\"-\",\"cardinalWindDirection\":\"SE\",\"windDirection\":135,\"humidity\":\" 92 \",\"rainfall\":\" 0.0 \",\"pressure\":\"1020\",\"dayName\":\"Saturday\",\"date\":\"09-11-2024\",\"reportTime\":\"07:00\"},{\"name\":\"Athenry\",\"temperature\":\"12\",\"symbol\":\"04d\",\"weatherDescription\":\"Cloudy\",\"text\":\"\\\"Cloudy\\\"\",\"windSpeed\":\"11\",\"windGust\":\"-\",\"cardinalWindDirection\":\"SE\",\"windDirection\":135,\"humidity\":\" 93 \",\"rainfall\":\" 0.0 \",\"pressure\":\"1020\",\"dayName\":\"Saturday\",\"date\":\"09-11-2024\",\"reportTime\":\"08:00\"},{\"name\":\"Athenry\",\"temperature\":\"12\",\"symbol\":\"04d\",\"weatherDescription\":\"Cloudy\",\"text\":\"\\\"Cloudy\\\"\",\"windSpeed\":\"11\",\"windGust\":\"-\",\"cardinalWindDirection\":\"SE\",\"windDirection\":135,\"humidity\":\" 92 \",\"rainfall\":\" 0.0 \",\"pressure\":\"1021\",\"dayName\":\"Saturday\",\"date\":\"09-11-2024\",\"reportTime\":\"09:00\"},{\"name\":\"Athenry\",\"temperature\":\"12\",\"symbol\":\"04d\",\"weatherDescription\":\"Cloudy\",\"text\":\"\\\"Cloudy\\\"\",\"windSpeed\":\"11\",\"windGust\":\"-\",\"cardinalWindDirection\":\"SE\",\"windDirection\":135,\"humidity\":\" 91 \",\"rainfall\":\" 0.0 \",\"pressure\":\"1021\",\"dayName\":\"Saturday\",\"date\":\"09-11-2024\",\"reportTime\":\"10:00\"}]*"
   ]
  },
  {
   "cell_type": "markdown",
   "metadata": {},
   "source": [
    "### Task 6\n",
    "**Timestamp the Data**\n",
    "\n",
    "Modify the command from Task 5 to save the downloaded file with a timestamped name in the format YYYYmmdd_HHMMSS.json."
   ]
  },
  {
   "cell_type": "markdown",
   "metadata": {},
   "source": [
    "**Explanation of How Task was Completed:**\n",
    "\n",
    "This task was to take the command in the previous task and amend it so that the output would be put into a time stamped file format. \n",
    "To complete this task, I used part of the command from task 5 and part of the date command from task 4. \n",
    "\n",
    "@LauraBrogan ➜/workspaces/computer-infrastructure-2024/data/weather (main) $ wget -O `date +\"%Y%m%d_%H%M%S\"`json https://prodapi.metweb.ie/observations/athenry/today\n",
    "\n",
    "To verify the command had worked I ran *ls* and could see the file and I then opened the file to see if it contained all the information similar to that in task 5."
   ]
  },
  {
   "cell_type": "markdown",
   "metadata": {},
   "source": [
    "### Task 7 \n",
    "**Write the Script**\n",
    "\n",
    "Write a bash script called *weather.sh* in the root of your repository. This script should automate the process from Task 6, saving the weather data to the *data/weather* directory. Make the script executable and test it by running it."
   ]
  },
  {
   "cell_type": "markdown",
   "metadata": {},
   "source": [
    "**Explanation of How Task was Completed:**\n",
    "\n",
    "To complete this task, I created a new script file called *weather.sh* at the route of my repository I then inputted the following code using my command from task 6.\n"
   ]
  },
  {
   "cell_type": "markdown",
   "metadata": {},
   "source": [
    "The first line of this is known as the shebang. It starts with a # which is a comment in bash script.  First line is a special comment to indicate how this script should be run.  Followed by the command and saving it in the data/weather folder. \n",
    "\n",
    "``` bash\n",
    "\n",
    "#! /bin/bash\n",
    "wget -O data/weather/`date +\"%Y%m%d_%H%M%S.json\"` https://prodapi.metweb.ie/observations/athenry/today\n",
    "\n",
    "```"
   ]
  },
  {
   "cell_type": "markdown",
   "metadata": {},
   "source": [
    "In order for the weather.sh file to be executable from the command line, permissions had to be changed on the file to allow it to write to the file.\n",
    "I used the command *ls -al* to view the current permissions these were as below.\n",
    "\n",
    "- *-rw-rw-rw-  1 codespace codespace   116 Nov 10 17:47 weather.sh*\n",
    "\n",
    "To change the permission, I entered the command *chmod u+x ./weather.sh* following that I ran the *ls -al* command again and got the following response. \n",
    "\n",
    "- *-rwxrw-rw-  1 codespace codespace   116 Nov 10 17:47 weather.sh*\n",
    "\n",
    "Then I ran the script to check it was working correctly.\n",
    "\n",
    "@LauraBrogan ➜ /workspaces/computer-infrastructure-2024 (main) $ ./weather.sh\n",
    "This then gave this response:\n",
    "-2024-11-26 20:25:39--  https://prodapi.metweb.ie/observations/athenry/today\n",
    "Resolving prodapi.metweb.ie (prodapi.metweb.ie)... 139.162.185.91\n",
    "Connecting to prodapi.metweb.ie (prodapi.metweb.ie)|139.162.185.91|:443... connected.\n",
    "HTTP request sent, awaiting response... 200 OK\n",
    "Length: unspecified [application/json]\n",
    "Saving to: ‘data/weather/20241126_202539.json’\n",
    "\n",
    "data/weather/20241126_202539.j     [ <=>                                                ]   6.04K  --.-KB/s    in 0s      \n",
    "\n",
    "2024-11-26 20:25:40 (622 MB/s) - ‘data/weather/20241126_202539.json’ saved [6185]\n",
    "\n",
    "From this you can see that it saved a new .json file with date and time as the file name within the data/weather folder."
   ]
  },
  {
   "cell_type": "markdown",
   "metadata": {},
   "source": [
    "### Task 8\n",
    "\n",
    "As part of this assessment Task 8 was to create this notebook called *weather.ipynb* at the root of your repository and to provide the above explanations to task 1-7 as above.  "
   ]
  },
  {
   "cell_type": "markdown",
   "metadata": {},
   "source": [
    "Task 8 has been completed as above 1 to 7 Explanations."
   ]
  },
  {
   "cell_type": "markdown",
   "metadata": {},
   "source": [
    "### Task 9\n",
    "**pandas**\n",
    "\n",
    "In your *weather.ipynb* notebook, use the pandas function read_json() to load in any one of the weather data files you have downloaded with your script. Examine and summarize the data. Use the information provided *url:https://data.gov.ie  to write a short explanation of what the data set contains."
   ]
  },
  {
   "cell_type": "markdown",
   "metadata": {},
   "source": [
    "At the start of this notebook, I have imported the pandas python library as pd.  This is used to read in data files to allow for analysis. \n",
    "The below two lines of code will read in my json file from my data/weather folder and df.head() will display the first 5 lines of the data set. "
   ]
  },
  {
   "cell_type": "code",
   "execution_count": 2,
   "metadata": {},
   "outputs": [],
   "source": [
    "# Read the data.\n",
    "df = pd.read_json('data/weather/20241109_124345.json')"
   ]
  },
  {
   "cell_type": "code",
   "execution_count": 3,
   "metadata": {},
   "outputs": [
    {
     "data": {
      "text/html": [
       "<div>\n",
       "<style scoped>\n",
       "    .dataframe tbody tr th:only-of-type {\n",
       "        vertical-align: middle;\n",
       "    }\n",
       "\n",
       "    .dataframe tbody tr th {\n",
       "        vertical-align: top;\n",
       "    }\n",
       "\n",
       "    .dataframe thead th {\n",
       "        text-align: right;\n",
       "    }\n",
       "</style>\n",
       "<table border=\"1\" class=\"dataframe\">\n",
       "  <thead>\n",
       "    <tr style=\"text-align: right;\">\n",
       "      <th></th>\n",
       "      <th>name</th>\n",
       "      <th>temperature</th>\n",
       "      <th>symbol</th>\n",
       "      <th>weatherDescription</th>\n",
       "      <th>text</th>\n",
       "      <th>windSpeed</th>\n",
       "      <th>windGust</th>\n",
       "      <th>cardinalWindDirection</th>\n",
       "      <th>windDirection</th>\n",
       "      <th>humidity</th>\n",
       "      <th>rainfall</th>\n",
       "      <th>pressure</th>\n",
       "      <th>dayName</th>\n",
       "      <th>date</th>\n",
       "      <th>reportTime</th>\n",
       "    </tr>\n",
       "  </thead>\n",
       "  <tbody>\n",
       "    <tr>\n",
       "      <th>0</th>\n",
       "      <td>Athenry</td>\n",
       "      <td>12</td>\n",
       "      <td>04n</td>\n",
       "      <td>Cloudy</td>\n",
       "      <td>\"Cloudy\"</td>\n",
       "      <td>13</td>\n",
       "      <td>-</td>\n",
       "      <td>E</td>\n",
       "      <td>90</td>\n",
       "      <td>92</td>\n",
       "      <td>0</td>\n",
       "      <td>1020</td>\n",
       "      <td>Saturday</td>\n",
       "      <td>2024-09-11</td>\n",
       "      <td>00:00</td>\n",
       "    </tr>\n",
       "    <tr>\n",
       "      <th>1</th>\n",
       "      <td>Athenry</td>\n",
       "      <td>12</td>\n",
       "      <td>04n</td>\n",
       "      <td>Cloudy</td>\n",
       "      <td>\"Cloudy\"</td>\n",
       "      <td>15</td>\n",
       "      <td>-</td>\n",
       "      <td>E</td>\n",
       "      <td>90</td>\n",
       "      <td>93</td>\n",
       "      <td>0</td>\n",
       "      <td>1020</td>\n",
       "      <td>Saturday</td>\n",
       "      <td>2024-09-11</td>\n",
       "      <td>01:00</td>\n",
       "    </tr>\n",
       "    <tr>\n",
       "      <th>2</th>\n",
       "      <td>Athenry</td>\n",
       "      <td>12</td>\n",
       "      <td>15n</td>\n",
       "      <td>Fog / Mist</td>\n",
       "      <td>\"Mist\"</td>\n",
       "      <td>11</td>\n",
       "      <td>-</td>\n",
       "      <td>E</td>\n",
       "      <td>90</td>\n",
       "      <td>95</td>\n",
       "      <td>0</td>\n",
       "      <td>1020</td>\n",
       "      <td>Saturday</td>\n",
       "      <td>2024-09-11</td>\n",
       "      <td>02:00</td>\n",
       "    </tr>\n",
       "    <tr>\n",
       "      <th>3</th>\n",
       "      <td>Athenry</td>\n",
       "      <td>12</td>\n",
       "      <td>15n</td>\n",
       "      <td>Fog / Mist</td>\n",
       "      <td>\"Mist\"</td>\n",
       "      <td>11</td>\n",
       "      <td>-</td>\n",
       "      <td>E</td>\n",
       "      <td>90</td>\n",
       "      <td>95</td>\n",
       "      <td>0</td>\n",
       "      <td>1020</td>\n",
       "      <td>Saturday</td>\n",
       "      <td>2024-09-11</td>\n",
       "      <td>03:00</td>\n",
       "    </tr>\n",
       "    <tr>\n",
       "      <th>4</th>\n",
       "      <td>Athenry</td>\n",
       "      <td>12</td>\n",
       "      <td>15n</td>\n",
       "      <td>Fog / Mist</td>\n",
       "      <td>\"Mist\"</td>\n",
       "      <td>11</td>\n",
       "      <td>-</td>\n",
       "      <td>SE</td>\n",
       "      <td>135</td>\n",
       "      <td>93</td>\n",
       "      <td>0</td>\n",
       "      <td>1020</td>\n",
       "      <td>Saturday</td>\n",
       "      <td>2024-09-11</td>\n",
       "      <td>04:00</td>\n",
       "    </tr>\n",
       "  </tbody>\n",
       "</table>\n",
       "</div>"
      ],
      "text/plain": [
       "      name  temperature symbol weatherDescription      text  windSpeed  \\\n",
       "0  Athenry           12    04n             Cloudy  \"Cloudy\"         13   \n",
       "1  Athenry           12    04n             Cloudy  \"Cloudy\"         15   \n",
       "2  Athenry           12    15n         Fog / Mist    \"Mist\"         11   \n",
       "3  Athenry           12    15n         Fog / Mist    \"Mist\"         11   \n",
       "4  Athenry           12    15n         Fog / Mist    \"Mist\"         11   \n",
       "\n",
       "  windGust cardinalWindDirection  windDirection  humidity  rainfall  pressure  \\\n",
       "0        -                     E             90        92         0      1020   \n",
       "1        -                     E             90        93         0      1020   \n",
       "2        -                     E             90        95         0      1020   \n",
       "3        -                     E             90        95         0      1020   \n",
       "4        -                    SE            135        93         0      1020   \n",
       "\n",
       "    dayName       date reportTime  \n",
       "0  Saturday 2024-09-11      00:00  \n",
       "1  Saturday 2024-09-11      01:00  \n",
       "2  Saturday 2024-09-11      02:00  \n",
       "3  Saturday 2024-09-11      03:00  \n",
       "4  Saturday 2024-09-11      04:00  "
      ]
     },
     "execution_count": 3,
     "metadata": {},
     "output_type": "execute_result"
    }
   ],
   "source": [
    "# This code shows the top 5 items in the dataset\n",
    "df.head()"
   ]
  },
  {
   "cell_type": "markdown",
   "metadata": {},
   "source": [
    "The next line of code will output the last five lines of the data set. "
   ]
  },
  {
   "cell_type": "code",
   "execution_count": 4,
   "metadata": {},
   "outputs": [
    {
     "data": {
      "text/html": [
       "<div>\n",
       "<style scoped>\n",
       "    .dataframe tbody tr th:only-of-type {\n",
       "        vertical-align: middle;\n",
       "    }\n",
       "\n",
       "    .dataframe tbody tr th {\n",
       "        vertical-align: top;\n",
       "    }\n",
       "\n",
       "    .dataframe thead th {\n",
       "        text-align: right;\n",
       "    }\n",
       "</style>\n",
       "<table border=\"1\" class=\"dataframe\">\n",
       "  <thead>\n",
       "    <tr style=\"text-align: right;\">\n",
       "      <th></th>\n",
       "      <th>name</th>\n",
       "      <th>temperature</th>\n",
       "      <th>symbol</th>\n",
       "      <th>weatherDescription</th>\n",
       "      <th>text</th>\n",
       "      <th>windSpeed</th>\n",
       "      <th>windGust</th>\n",
       "      <th>cardinalWindDirection</th>\n",
       "      <th>windDirection</th>\n",
       "      <th>humidity</th>\n",
       "      <th>rainfall</th>\n",
       "      <th>pressure</th>\n",
       "      <th>dayName</th>\n",
       "      <th>date</th>\n",
       "      <th>reportTime</th>\n",
       "    </tr>\n",
       "  </thead>\n",
       "  <tbody>\n",
       "    <tr>\n",
       "      <th>8</th>\n",
       "      <td>Athenry</td>\n",
       "      <td>12</td>\n",
       "      <td>04d</td>\n",
       "      <td>Cloudy</td>\n",
       "      <td>\"Cloudy\"</td>\n",
       "      <td>11</td>\n",
       "      <td>-</td>\n",
       "      <td>SE</td>\n",
       "      <td>135</td>\n",
       "      <td>93</td>\n",
       "      <td>0</td>\n",
       "      <td>1020</td>\n",
       "      <td>Saturday</td>\n",
       "      <td>2024-09-11</td>\n",
       "      <td>08:00</td>\n",
       "    </tr>\n",
       "    <tr>\n",
       "      <th>9</th>\n",
       "      <td>Athenry</td>\n",
       "      <td>12</td>\n",
       "      <td>04d</td>\n",
       "      <td>Cloudy</td>\n",
       "      <td>\"Cloudy\"</td>\n",
       "      <td>11</td>\n",
       "      <td>-</td>\n",
       "      <td>SE</td>\n",
       "      <td>135</td>\n",
       "      <td>92</td>\n",
       "      <td>0</td>\n",
       "      <td>1021</td>\n",
       "      <td>Saturday</td>\n",
       "      <td>2024-09-11</td>\n",
       "      <td>09:00</td>\n",
       "    </tr>\n",
       "    <tr>\n",
       "      <th>10</th>\n",
       "      <td>Athenry</td>\n",
       "      <td>12</td>\n",
       "      <td>04d</td>\n",
       "      <td>Cloudy</td>\n",
       "      <td>\"Cloudy\"</td>\n",
       "      <td>11</td>\n",
       "      <td>-</td>\n",
       "      <td>SE</td>\n",
       "      <td>135</td>\n",
       "      <td>91</td>\n",
       "      <td>0</td>\n",
       "      <td>1021</td>\n",
       "      <td>Saturday</td>\n",
       "      <td>2024-09-11</td>\n",
       "      <td>10:00</td>\n",
       "    </tr>\n",
       "    <tr>\n",
       "      <th>11</th>\n",
       "      <td>Athenry</td>\n",
       "      <td>13</td>\n",
       "      <td>04d</td>\n",
       "      <td>Cloudy</td>\n",
       "      <td>\"Cloudy\"</td>\n",
       "      <td>7</td>\n",
       "      <td>-</td>\n",
       "      <td>SE</td>\n",
       "      <td>135</td>\n",
       "      <td>91</td>\n",
       "      <td>0</td>\n",
       "      <td>1021</td>\n",
       "      <td>Saturday</td>\n",
       "      <td>2024-09-11</td>\n",
       "      <td>11:00</td>\n",
       "    </tr>\n",
       "    <tr>\n",
       "      <th>12</th>\n",
       "      <td>Athenry</td>\n",
       "      <td>13</td>\n",
       "      <td>04d</td>\n",
       "      <td>Cloudy</td>\n",
       "      <td>\"Cloudy\"</td>\n",
       "      <td>9</td>\n",
       "      <td>-</td>\n",
       "      <td>SE</td>\n",
       "      <td>135</td>\n",
       "      <td>89</td>\n",
       "      <td>0</td>\n",
       "      <td>1020</td>\n",
       "      <td>Saturday</td>\n",
       "      <td>2024-09-11</td>\n",
       "      <td>12:00</td>\n",
       "    </tr>\n",
       "  </tbody>\n",
       "</table>\n",
       "</div>"
      ],
      "text/plain": [
       "       name  temperature symbol weatherDescription      text  windSpeed  \\\n",
       "8   Athenry           12    04d             Cloudy  \"Cloudy\"         11   \n",
       "9   Athenry           12    04d             Cloudy  \"Cloudy\"         11   \n",
       "10  Athenry           12    04d             Cloudy  \"Cloudy\"         11   \n",
       "11  Athenry           13    04d             Cloudy  \"Cloudy\"          7   \n",
       "12  Athenry           13    04d             Cloudy  \"Cloudy\"          9   \n",
       "\n",
       "   windGust cardinalWindDirection  windDirection  humidity  rainfall  \\\n",
       "8         -                    SE            135        93         0   \n",
       "9         -                    SE            135        92         0   \n",
       "10        -                    SE            135        91         0   \n",
       "11        -                    SE            135        91         0   \n",
       "12        -                    SE            135        89         0   \n",
       "\n",
       "    pressure   dayName       date reportTime  \n",
       "8       1020  Saturday 2024-09-11      08:00  \n",
       "9       1021  Saturday 2024-09-11      09:00  \n",
       "10      1021  Saturday 2024-09-11      10:00  \n",
       "11      1021  Saturday 2024-09-11      11:00  \n",
       "12      1020  Saturday 2024-09-11      12:00  "
      ]
     },
     "execution_count": 4,
     "metadata": {},
     "output_type": "execute_result"
    }
   ],
   "source": [
    "# This shows the last 5 rows of data \n",
    "df.tail()"
   ]
  },
  {
   "cell_type": "markdown",
   "metadata": {},
   "source": [
    "The below line of code generates, some descriptive statistics from the data set. "
   ]
  },
  {
   "cell_type": "code",
   "execution_count": 5,
   "metadata": {},
   "outputs": [
    {
     "data": {
      "text/html": [
       "<div>\n",
       "<style scoped>\n",
       "    .dataframe tbody tr th:only-of-type {\n",
       "        vertical-align: middle;\n",
       "    }\n",
       "\n",
       "    .dataframe tbody tr th {\n",
       "        vertical-align: top;\n",
       "    }\n",
       "\n",
       "    .dataframe thead th {\n",
       "        text-align: right;\n",
       "    }\n",
       "</style>\n",
       "<table border=\"1\" class=\"dataframe\">\n",
       "  <thead>\n",
       "    <tr style=\"text-align: right;\">\n",
       "      <th></th>\n",
       "      <th>temperature</th>\n",
       "      <th>windSpeed</th>\n",
       "      <th>windDirection</th>\n",
       "      <th>humidity</th>\n",
       "      <th>rainfall</th>\n",
       "      <th>pressure</th>\n",
       "      <th>date</th>\n",
       "    </tr>\n",
       "  </thead>\n",
       "  <tbody>\n",
       "    <tr>\n",
       "      <th>count</th>\n",
       "      <td>13.000000</td>\n",
       "      <td>13.000000</td>\n",
       "      <td>13.000000</td>\n",
       "      <td>13.000000</td>\n",
       "      <td>13.0</td>\n",
       "      <td>13.000000</td>\n",
       "      <td>13</td>\n",
       "    </tr>\n",
       "    <tr>\n",
       "      <th>mean</th>\n",
       "      <td>12.153846</td>\n",
       "      <td>10.692308</td>\n",
       "      <td>121.153846</td>\n",
       "      <td>92.307692</td>\n",
       "      <td>0.0</td>\n",
       "      <td>1020.230769</td>\n",
       "      <td>2024-09-11 00:00:00</td>\n",
       "    </tr>\n",
       "    <tr>\n",
       "      <th>min</th>\n",
       "      <td>12.000000</td>\n",
       "      <td>7.000000</td>\n",
       "      <td>90.000000</td>\n",
       "      <td>89.000000</td>\n",
       "      <td>0.0</td>\n",
       "      <td>1020.000000</td>\n",
       "      <td>2024-09-11 00:00:00</td>\n",
       "    </tr>\n",
       "    <tr>\n",
       "      <th>25%</th>\n",
       "      <td>12.000000</td>\n",
       "      <td>9.000000</td>\n",
       "      <td>90.000000</td>\n",
       "      <td>92.000000</td>\n",
       "      <td>0.0</td>\n",
       "      <td>1020.000000</td>\n",
       "      <td>2024-09-11 00:00:00</td>\n",
       "    </tr>\n",
       "    <tr>\n",
       "      <th>50%</th>\n",
       "      <td>12.000000</td>\n",
       "      <td>11.000000</td>\n",
       "      <td>135.000000</td>\n",
       "      <td>92.000000</td>\n",
       "      <td>0.0</td>\n",
       "      <td>1020.000000</td>\n",
       "      <td>2024-09-11 00:00:00</td>\n",
       "    </tr>\n",
       "    <tr>\n",
       "      <th>75%</th>\n",
       "      <td>12.000000</td>\n",
       "      <td>11.000000</td>\n",
       "      <td>135.000000</td>\n",
       "      <td>93.000000</td>\n",
       "      <td>0.0</td>\n",
       "      <td>1020.000000</td>\n",
       "      <td>2024-09-11 00:00:00</td>\n",
       "    </tr>\n",
       "    <tr>\n",
       "      <th>max</th>\n",
       "      <td>13.000000</td>\n",
       "      <td>15.000000</td>\n",
       "      <td>135.000000</td>\n",
       "      <td>95.000000</td>\n",
       "      <td>0.0</td>\n",
       "      <td>1021.000000</td>\n",
       "      <td>2024-09-11 00:00:00</td>\n",
       "    </tr>\n",
       "    <tr>\n",
       "      <th>std</th>\n",
       "      <td>0.375534</td>\n",
       "      <td>1.974192</td>\n",
       "      <td>21.617301</td>\n",
       "      <td>1.601282</td>\n",
       "      <td>0.0</td>\n",
       "      <td>0.438529</td>\n",
       "      <td>NaN</td>\n",
       "    </tr>\n",
       "  </tbody>\n",
       "</table>\n",
       "</div>"
      ],
      "text/plain": [
       "       temperature  windSpeed  windDirection   humidity  rainfall  \\\n",
       "count    13.000000  13.000000      13.000000  13.000000      13.0   \n",
       "mean     12.153846  10.692308     121.153846  92.307692       0.0   \n",
       "min      12.000000   7.000000      90.000000  89.000000       0.0   \n",
       "25%      12.000000   9.000000      90.000000  92.000000       0.0   \n",
       "50%      12.000000  11.000000     135.000000  92.000000       0.0   \n",
       "75%      12.000000  11.000000     135.000000  93.000000       0.0   \n",
       "max      13.000000  15.000000     135.000000  95.000000       0.0   \n",
       "std       0.375534   1.974192      21.617301   1.601282       0.0   \n",
       "\n",
       "          pressure                 date  \n",
       "count    13.000000                   13  \n",
       "mean   1020.230769  2024-09-11 00:00:00  \n",
       "min    1020.000000  2024-09-11 00:00:00  \n",
       "25%    1020.000000  2024-09-11 00:00:00  \n",
       "50%    1020.000000  2024-09-11 00:00:00  \n",
       "75%    1020.000000  2024-09-11 00:00:00  \n",
       "max    1021.000000  2024-09-11 00:00:00  \n",
       "std       0.438529                  NaN  "
      ]
     },
     "execution_count": 5,
     "metadata": {},
     "output_type": "execute_result"
    }
   ],
   "source": [
    "# This function generates descriptive statistics.  \n",
    "# For the numeric series it gives the count, mean, standard deviation, min etc\n",
    "df.describe()"
   ]
  },
  {
   "cell_type": "markdown",
   "metadata": {},
   "source": [
    "Below I extract the windspeed and winddirection columns from the data set and print these 2 columns out separately to screen. "
   ]
  },
  {
   "cell_type": "code",
   "execution_count": 6,
   "metadata": {},
   "outputs": [
    {
     "name": "stdout",
     "output_type": "stream",
     "text": [
      "0     13\n",
      "1     15\n",
      "2     11\n",
      "3     11\n",
      "4     11\n",
      "5      9\n",
      "6     11\n",
      "7      9\n",
      "8     11\n",
      "9     11\n",
      "10    11\n",
      "11     7\n",
      "12     9\n",
      "Name: windSpeed, dtype: int64\n",
      "0      90\n",
      "1      90\n",
      "2      90\n",
      "3      90\n",
      "4     135\n",
      "5     135\n",
      "6     135\n",
      "7     135\n",
      "8     135\n",
      "9     135\n",
      "10    135\n",
      "11    135\n",
      "12    135\n",
      "Name: windDirection, dtype: int64\n"
     ]
    }
   ],
   "source": [
    "# This function divides out the windspeed and winddirection data recorded for each of the 2 columns.\n",
    "x = df['windSpeed']\n",
    "y = df['windDirection']\n",
    "print (x)\n",
    "print(y)"
   ]
  },
  {
   "cell_type": "markdown",
   "metadata": {},
   "source": [
    "\n",
    "This entire data set *\"contains a list of observations for every hour of the current day for our synoptic station in Athenry, Co Galway. The file is updated hourly. Time values are Local times. Values for each hour include: Name; Dry bulb temperature in whole degrees; Weather description, Windspeed (kt); Cardinal Wind Direction; Relative Humidity (%); Rainfall (mm); msl Pressure (mbar); Day of the week; Date; Time of observation. Please note: This data is not quality controlled.\"*\n",
    "\n",
    "The data in my .json file only covers a 12-hour period as it starts a day at midnight and I created the file just after midday.  Depending on when the json file was created has an impact on the amount of information in the data set imported as the data set consists of recorded weather for the day. "
   ]
  },
  {
   "cell_type": "markdown",
   "metadata": {},
   "source": [
    "## References:\n",
    "\n",
    "For this project I reviewed class lecture videos and notes by Dr. Ian McLoughlin.  I also used the following online resources.\n",
    "\n",
    "-  Task 2\n",
    "\n",
    "https://askubuntu.com/questions/1099220/how-to-make-new-file-with-date-in-it\n",
    "\n",
    "- Task 3\n",
    "\n",
    "Man Date \n",
    "\n",
    "- Task 4 \n",
    "\n",
    "https://phoenixnap.com/kb/touch-command-in-linux\n",
    "\n",
    "- Task 9\n",
    "\n",
    "https://data.gov.ie/dataset/todays-weather-athenry\n",
    "\n",
    "***Laura Brogan 20/12/2024***\n",
    "    "
   ]
  }
 ],
 "metadata": {
  "kernelspec": {
   "display_name": "Python 3",
   "language": "python",
   "name": "python3"
  },
  "language_info": {
   "codemirror_mode": {
    "name": "ipython",
    "version": 3
   },
   "file_extension": ".py",
   "mimetype": "text/x-python",
   "name": "python",
   "nbconvert_exporter": "python",
   "pygments_lexer": "ipython3",
   "version": "3.12.1"
  }
 },
 "nbformat": 4,
 "nbformat_minor": 2
}
