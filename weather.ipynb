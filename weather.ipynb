{
 "cells": [
  {
   "cell_type": "markdown",
   "metadata": {},
   "source": [
    "# Computer Infrastructure Assessment 2024"
   ]
  },
  {
   "cell_type": "markdown",
   "metadata": {},
   "source": [
    "This Assessment consists of 9 tasks in total. \n",
    "The first part of the assessment is to explain how I completed the first seven tasks.\n",
    "To start I will import the below liabiries:\n"
   ]
  },
  {
   "cell_type": "code",
   "execution_count": 1,
   "metadata": {},
   "outputs": [],
   "source": [
    "# Data Frames\n",
    "import pandas as pd"
   ]
  },
  {
   "cell_type": "markdown",
   "metadata": {},
   "source": [
    "### Task 1\n",
    "**Create Directory Structure**\n",
    "\n",
    "Using the command line, create a directory (that is, a folder) named data at the root of your repository. Inside data, create two subdirectories: *timestamps* and *weather*."
   ]
  },
  {
   "cell_type": "markdown",
   "metadata": {},
   "source": [
    "**Explanation of How Task was Completed:**\n",
    "\n",
    "To complete this task on the comand line at the root of the repository I used the following the command \"mkdir data\"\n",
    "while in the main folder this created the directroy. I then added \"mkdir data/weather\" and \"mkdir data/timestamps\" to get the two subdirectories.  When I had that completed I put in the \"ls\" command to see if the direcories were there and I then entered the directory data and used the ls command again to check for the weather and timestamps directories. When carrying out this task and pushing it back to my Git Hub repository it did not show the weather or timestamps files until they actually contained something, so to test I had to create a file which I subsequently deleted. \n",
    "Below are the exact commands used on the command line to create the reqired directories for task 1."
   ]
  },
  {
   "cell_type": "markdown",
   "metadata": {},
   "source": [
    "@LauraBrogan ➜/workspaces/computer-infrastructure-2024 (main) $ mkdir data\n",
    "\n",
    "@LauraBrogan ➜/workspaces/computer-infrastructure-2024 (main) $ mkdir data/weather\n",
    "\n",
    "@LauraBrogan ➜/workspaces/computer-infrastructure-2024 (main) $ mkdir data/timestamps\n",
    "\n",
    "@LauraBrogan ➜/workspaces/computer-infrastructure-2024 (main) $ ls\n",
    "\n",
    "@LauraBrogan ➜/workspaces/computer-infrastructure-2024 (main) $ cd data\n",
    "\n",
    "@LauraBrogan ➜/workspaces/computer-infrastructure-2024 (main) $ ls"
   ]
  },
  {
   "cell_type": "markdown",
   "metadata": {},
   "source": [
    "### Task 2\n",
    "**TimeStamps**\n",
    "\n",
    "Navigate to the *data/timestamps* directory. Use the date command to output the current date and time, appending the output to a file named *now.txt*. Make sure to use the >> operator to append (not overwrite) the file. Repeat this step ten times, then use the more command to verify that *now.txt* has the expected content."
   ]
  },
  {
   "cell_type": "markdown",
   "metadata": {},
   "source": [
    "**Explanation of How Task was Completed:**\n",
    "\n",
    "To complete this task I had to consult *Ubuntu in order to learn how to correctly append the output to a file named *now.txt*"
   ]
  },
  {
   "cell_type": "markdown",
   "metadata": {},
   "source": [
    "**1. Navigating to the *date/timestamps* diretory.**\n",
    "\n",
    "@LauraBrogan ➜/workspaces/computer-infrastructure-2024/data/timestamps (main) $\n",
    "\n",
    "**2. using the date command to output the current date and time.**\n",
    "\n",
    "@LauraBrogan ➜/workspaces/computer-infrastructure-2024/data/timestamps (main) $ date\n",
    "\n",
    "Output: Sun Oct 13 12:45:27 UTC 2024\n",
    "\n",
    "**3. Using the >> operator to append not overwrite the file.This was repeated 10 times.** \n",
    "\n",
    "@LauraBrogan ➜/workspaces/computer-infrastructure-2024/data/timestamps (main) $ date >> now.txt\n",
    "\n",
    "**4. Using the *more* command to verify**\n",
    "\n",
    "@LauraBrogan ➜/workspaces/computer-infrastructure-2024/data/timestamps (main) $ more - now.txt\n",
    "\n",
    "Sun Oct 13 12:45:37 UTC 2024\n",
    "\n",
    "Sun Oct 13 12:46:01 UTC 2024\n",
    "\n",
    "Sun Oct 13 12:46:02 UTC 2024\n",
    "\n",
    "Sun Oct 13 12:46:03 UTC 2024\n",
    "\n",
    "Sun Oct 13 12:46:04 UTC 2024\n",
    "\n",
    "Sun Oct 13 12:46:05 UTC 2024\n",
    "\n",
    "Sun Oct 13 12:46:05 UTC 2024\n",
    "\n",
    "Sun Oct 13 12:46:06 UTC 2024\n",
    "\n",
    "Sun Oct 13 12:46:07 UTC 2024\n",
    "\n",
    "Sun Oct 13 12:46:08 UTC 2024\n",
    "\n",
    "Sun Oct 13 12:46:08 UTC 2024\n"
   ]
  },
  {
   "cell_type": "markdown",
   "metadata": {},
   "source": [
    "### Task 3\n",
    "**Formatting Timestamps** \n",
    "\n",
    "Run the date command again, but this time format the output using *YYYYmmdd_HHMMSS* (e.g., 20261114_130003 for 1:00:03 PM on November 14, 2026). Refer to the date man page (using *man* date) for more formatting options. (Press q to exit the man page). Append the formatted output to a file named *formatted.txt*."
   ]
  },
  {
   "cell_type": "markdown",
   "metadata": {},
   "source": [
    "**Explanation of How Task was Completed:**\n",
    "\n",
    "To complete this task I first had to used the command 'man date' on the command line to look at the manual to see what was requried for the code."
   ]
  },
  {
   "cell_type": "markdown",
   "metadata": {},
   "source": [
    "The following code will show the filename used to store the data file.\n",
    "```bash\n",
    "date +\"%Y%m%d_%H%M%S.json\"\n",
    "```\n",
    "From the manual I learned that the \n",
    "\n",
    "- The '%Y' is for year and would be replaced by the four digit year.\n",
    "\n",
    "- The '%m' is month (01..12) theys would place the month next.\n",
    "\n",
    "- The '%d' day of the month (e.g., 01) this would place the day.\n",
    "\n",
    "- The '%H' hour (00..23)\n",
    "\n",
    "- The '%M' minute (00..59)\n",
    "\n",
    "- The '%S' second (00..60)\n",
    "\n",
    "From this I learned that Capital and lower case letters also made different commands. "
   ]
  },
  {
   "cell_type": "markdown",
   "metadata": {},
   "source": [
    "Once I had reveiwed the date man page and knew the code requirements as explainined above I could run the date command formatting the output using *YYYYmmdd_HHMMSS* (e.g., 20261114_130003 for 1:00:03 PM on November 14, 2026)\n",
    "\n",
    "@LauraBrogan ➜/workspaces/computer-infrastructure-2024/data/timestamps (main) $ date +\"%Y%m%d_%H%M%S\"\n"
   ]
  },
  {
   "cell_type": "markdown",
   "metadata": {},
   "source": [
    "Having learned in task 2 how to append output to file name I then ran the following code in the command line.\n",
    "\n",
    "@LauraBrogan ➜/workspaces/computer-infrastructure-2024/data/timestamps (main) $ date +\"%Y%m%d_%H%M%S\" >> formatted.txt"
   ]
  },
  {
   "cell_type": "markdown",
   "metadata": {},
   "source": [
    "### Task 4\n",
    "**Create Timestamped Files**\n",
    "\n",
    "Use the *touch* command to create an empty file with a name in the *YYYYmmdd_HHMMSS.txt* format. You can achieve this by embedding your date command in backticks ` into the touch command. You should no longer use redirection (>>) in this step."
   ]
  },
  {
   "cell_type": "markdown",
   "metadata": {},
   "source": [
    "**Explanation of How Task was Completed:**\n",
    "\n",
    "To "
   ]
  },
  {
   "cell_type": "markdown",
   "metadata": {},
   "source": [
    "### Task 5\n",
    " **Download Today's Weather Data**\n",
    "\n",
    "Change to the *data/weather* directory. Download the latest weather data for the Athenry weather station from Met Eireann using *wget*. Use the -O <filename> option to save the file as weather.json. The data can be found at this URL:\n",
    "https://prodapi.metweb.ie/observations/athenry/today."
   ]
  },
  {
   "cell_type": "markdown",
   "metadata": {},
   "source": [
    "**Explanation of How Task was Completed:**\n",
    "\n",
    "To complete"
   ]
  },
  {
   "cell_type": "markdown",
   "metadata": {},
   "source": [
    "### Task 6\n",
    "**Timestamp the Data**\n",
    "\n",
    "Modify the command from Task 5 to save the downloaded file with a timestamped name in the format YYYYmmdd_HHMMSS.json."
   ]
  },
  {
   "cell_type": "markdown",
   "metadata": {},
   "source": [
    "**Explanation of How Task was Completed:**\n",
    "\n",
    "To complete "
   ]
  },
  {
   "cell_type": "markdown",
   "metadata": {},
   "source": [
    "### Task 7 \n",
    "**Write the Script**\n",
    "\n",
    "Write a bash script called *weather.sh* in the root of your repository. This script should automate the process from Task 6, saving the weather data to the *data/weather* directory. Make the script executable and test it by running it."
   ]
  },
  {
   "cell_type": "markdown",
   "metadata": {},
   "source": [
    "**Explanation of How Task was Completed:**\n",
    "\n",
    "To complete"
   ]
  },
  {
   "cell_type": "markdown",
   "metadata": {},
   "source": [
    "As part of this assessment Task 8 was to create this notebook called *weather.ipynb* at the root of your repository and to provide the above explanations to task 1-7 as above.  "
   ]
  },
  {
   "cell_type": "markdown",
   "metadata": {},
   "source": [
    "Task 8 has been completed as above 1 to 7 Explanations."
   ]
  },
  {
   "cell_type": "markdown",
   "metadata": {},
   "source": [
    "### Task 9\n",
    "**pandas**\n",
    "\n",
    "In your *weather.ipynb* notebook, use the pandas function read_json() to load in any one of the weather data files you have downloaded with your script. Examine and summarize the data. Use the information provided url:https://data.gov.ie  to write a short explanation of what the data set contains."
   ]
  },
  {
   "cell_type": "markdown",
   "metadata": {},
   "source": []
  },
  {
   "cell_type": "code",
   "execution_count": 4,
   "metadata": {},
   "outputs": [],
   "source": [
    "# Read the data.\n",
    "df = pd.read_json('data/weather/20241109_124345.json')"
   ]
  },
  {
   "cell_type": "code",
   "execution_count": 5,
   "metadata": {},
   "outputs": [
    {
     "data": {
      "text/html": [
       "<div>\n",
       "<style scoped>\n",
       "    .dataframe tbody tr th:only-of-type {\n",
       "        vertical-align: middle;\n",
       "    }\n",
       "\n",
       "    .dataframe tbody tr th {\n",
       "        vertical-align: top;\n",
       "    }\n",
       "\n",
       "    .dataframe thead th {\n",
       "        text-align: right;\n",
       "    }\n",
       "</style>\n",
       "<table border=\"1\" class=\"dataframe\">\n",
       "  <thead>\n",
       "    <tr style=\"text-align: right;\">\n",
       "      <th></th>\n",
       "      <th>name</th>\n",
       "      <th>temperature</th>\n",
       "      <th>symbol</th>\n",
       "      <th>weatherDescription</th>\n",
       "      <th>text</th>\n",
       "      <th>windSpeed</th>\n",
       "      <th>windGust</th>\n",
       "      <th>cardinalWindDirection</th>\n",
       "      <th>windDirection</th>\n",
       "      <th>humidity</th>\n",
       "      <th>rainfall</th>\n",
       "      <th>pressure</th>\n",
       "      <th>dayName</th>\n",
       "      <th>date</th>\n",
       "      <th>reportTime</th>\n",
       "    </tr>\n",
       "  </thead>\n",
       "  <tbody>\n",
       "    <tr>\n",
       "      <th>0</th>\n",
       "      <td>Athenry</td>\n",
       "      <td>12</td>\n",
       "      <td>04n</td>\n",
       "      <td>Cloudy</td>\n",
       "      <td>\"Cloudy\"</td>\n",
       "      <td>13</td>\n",
       "      <td>-</td>\n",
       "      <td>E</td>\n",
       "      <td>90</td>\n",
       "      <td>92</td>\n",
       "      <td>0</td>\n",
       "      <td>1020</td>\n",
       "      <td>Saturday</td>\n",
       "      <td>2024-09-11</td>\n",
       "      <td>00:00</td>\n",
       "    </tr>\n",
       "    <tr>\n",
       "      <th>1</th>\n",
       "      <td>Athenry</td>\n",
       "      <td>12</td>\n",
       "      <td>04n</td>\n",
       "      <td>Cloudy</td>\n",
       "      <td>\"Cloudy\"</td>\n",
       "      <td>15</td>\n",
       "      <td>-</td>\n",
       "      <td>E</td>\n",
       "      <td>90</td>\n",
       "      <td>93</td>\n",
       "      <td>0</td>\n",
       "      <td>1020</td>\n",
       "      <td>Saturday</td>\n",
       "      <td>2024-09-11</td>\n",
       "      <td>01:00</td>\n",
       "    </tr>\n",
       "    <tr>\n",
       "      <th>2</th>\n",
       "      <td>Athenry</td>\n",
       "      <td>12</td>\n",
       "      <td>15n</td>\n",
       "      <td>Fog / Mist</td>\n",
       "      <td>\"Mist\"</td>\n",
       "      <td>11</td>\n",
       "      <td>-</td>\n",
       "      <td>E</td>\n",
       "      <td>90</td>\n",
       "      <td>95</td>\n",
       "      <td>0</td>\n",
       "      <td>1020</td>\n",
       "      <td>Saturday</td>\n",
       "      <td>2024-09-11</td>\n",
       "      <td>02:00</td>\n",
       "    </tr>\n",
       "    <tr>\n",
       "      <th>3</th>\n",
       "      <td>Athenry</td>\n",
       "      <td>12</td>\n",
       "      <td>15n</td>\n",
       "      <td>Fog / Mist</td>\n",
       "      <td>\"Mist\"</td>\n",
       "      <td>11</td>\n",
       "      <td>-</td>\n",
       "      <td>E</td>\n",
       "      <td>90</td>\n",
       "      <td>95</td>\n",
       "      <td>0</td>\n",
       "      <td>1020</td>\n",
       "      <td>Saturday</td>\n",
       "      <td>2024-09-11</td>\n",
       "      <td>03:00</td>\n",
       "    </tr>\n",
       "    <tr>\n",
       "      <th>4</th>\n",
       "      <td>Athenry</td>\n",
       "      <td>12</td>\n",
       "      <td>15n</td>\n",
       "      <td>Fog / Mist</td>\n",
       "      <td>\"Mist\"</td>\n",
       "      <td>11</td>\n",
       "      <td>-</td>\n",
       "      <td>SE</td>\n",
       "      <td>135</td>\n",
       "      <td>93</td>\n",
       "      <td>0</td>\n",
       "      <td>1020</td>\n",
       "      <td>Saturday</td>\n",
       "      <td>2024-09-11</td>\n",
       "      <td>04:00</td>\n",
       "    </tr>\n",
       "  </tbody>\n",
       "</table>\n",
       "</div>"
      ],
      "text/plain": [
       "      name  temperature symbol weatherDescription      text  windSpeed  \\\n",
       "0  Athenry           12    04n             Cloudy  \"Cloudy\"         13   \n",
       "1  Athenry           12    04n             Cloudy  \"Cloudy\"         15   \n",
       "2  Athenry           12    15n         Fog / Mist    \"Mist\"         11   \n",
       "3  Athenry           12    15n         Fog / Mist    \"Mist\"         11   \n",
       "4  Athenry           12    15n         Fog / Mist    \"Mist\"         11   \n",
       "\n",
       "  windGust cardinalWindDirection  windDirection  humidity  rainfall  pressure  \\\n",
       "0        -                     E             90        92         0      1020   \n",
       "1        -                     E             90        93         0      1020   \n",
       "2        -                     E             90        95         0      1020   \n",
       "3        -                     E             90        95         0      1020   \n",
       "4        -                    SE            135        93         0      1020   \n",
       "\n",
       "    dayName       date reportTime  \n",
       "0  Saturday 2024-09-11      00:00  \n",
       "1  Saturday 2024-09-11      01:00  \n",
       "2  Saturday 2024-09-11      02:00  \n",
       "3  Saturday 2024-09-11      03:00  \n",
       "4  Saturday 2024-09-11      04:00  "
      ]
     },
     "execution_count": 5,
     "metadata": {},
     "output_type": "execute_result"
    }
   ],
   "source": [
    "# to show the information\n",
    "df.head()"
   ]
  },
  {
   "cell_type": "markdown",
   "metadata": {},
   "source": [
    "## References:\n",
    "\n",
    "For this project I reviewed class lecture videos and notes by Dr. Ian McLoughlin.  I also used the following online resources.\n",
    "\n",
    "Task 2\n",
    "https://askubuntu.com/questions/1099220/how-to-make-new-file-with-date-in-it\n",
    "Task 3\n",
    "Man Date \n",
    "Taks 4 \n",
    "https://phoenixnap.com/kb/touch-command-in-linux\n",
    "\n",
    "Laura Brogan 20/12/2024\n",
    "    "
   ]
  }
 ],
 "metadata": {
  "kernelspec": {
   "display_name": "Python 3",
   "language": "python",
   "name": "python3"
  },
  "language_info": {
   "codemirror_mode": {
    "name": "ipython",
    "version": 3
   },
   "file_extension": ".py",
   "mimetype": "text/x-python",
   "name": "python",
   "nbconvert_exporter": "python",
   "pygments_lexer": "ipython3",
   "version": "3.12.1"
  }
 },
 "nbformat": 4,
 "nbformat_minor": 2
}
