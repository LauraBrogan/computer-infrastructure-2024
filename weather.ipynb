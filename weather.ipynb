{
 "cells": [
  {
   "cell_type": "markdown",
   "metadata": {},
   "source": [
    "# Computer Infrastructure Assessment 2024"
   ]
  },
  {
   "cell_type": "markdown",
   "metadata": {},
   "source": [
    "This Assessment consists of 9 tasks in total. \n",
    "The first part of the assessment is to explain how I completed the first seven tasks.\n",
    "To start I will import the below liabiries:\n"
   ]
  },
  {
   "cell_type": "code",
   "execution_count": null,
   "metadata": {
    "vscode": {
     "languageId": "plaintext"
    }
   },
   "outputs": [],
   "source": [
    "import pandas as pd"
   ]
  },
  {
   "cell_type": "markdown",
   "metadata": {},
   "source": [
    "### Task 1\n",
    "**Create Directory Structure**\n",
    "\n",
    "Using the command line, create a directory (that is, a folder) named data at the root of your repository. Inside data, create two subdirectories: *timestamps* and *weather*."
   ]
  },
  {
   "cell_type": "markdown",
   "metadata": {},
   "source": [
    "### Task 2\n",
    "**TimeStamps**\n",
    "\n",
    "Navigate to the *data/timestamps* directory. Use the date command to output the current date and time, appending the output to a file named *now.txt*. Make sure to use the >> operator to append (not overwrite) the file. Repeat this step ten times, then use the more command to verify that *now.txt* has the expected content."
   ]
  },
  {
   "cell_type": "markdown",
   "metadata": {},
   "source": [
    "### Task 3\n",
    "**Formatting Timestamps** \n",
    "\n",
    "Run the date command again, but this time format the output using *YYYYmmdd_HHMMSS* (e.g., 20261114_130003 for 1:00:03 PM on November 14, 2026). Refer to the date man page (using *man* date) for more formatting options. (Press q to exit the man page). Append the formatted output to a file named *formatted.txt*."
   ]
  },
  {
   "cell_type": "markdown",
   "metadata": {},
   "source": [
    "### Task 4\n",
    "**Create Timestamped Files**\n",
    "Use the *touch* command to create an empty file with a name in the *YYYYmmdd_HHMMSS.txt* format. You can achieve this by embedding your date command in backticks ` into the touch command. You should no longer use redirection (>>) in this step."
   ]
  },
  {
   "cell_type": "markdown",
   "metadata": {},
   "source": [
    "### Task 5\n",
    " **Download Today's Weather Data**\n",
    "\n",
    "Change to the *data/weather* directory. Download the latest weather data for the Athenry weather station from Met Eireann using *wget*. Use the -O <filename> option to save the file as weather.json. The data can be found at this URL:\n",
    "https://prodapi.metweb.ie/observations/athenry/today."
   ]
  },
  {
   "cell_type": "markdown",
   "metadata": {},
   "source": [
    "### Task 6\n",
    "**Timestamp the Data**\n",
    "\n",
    "Modify the command from Task 5 to save the downloaded file with a timestamped name in the format YYYYmmdd_HHMMSS.json."
   ]
  },
  {
   "cell_type": "markdown",
   "metadata": {},
   "source": [
    "### Task 7 \n",
    "**Write the Script**\n",
    "\n",
    "Write a bash script called *weather.sh* in the root of your repository. This script should automate the process from Task 6, saving the weather data to the *data/weather* directory. Make the script executable and test it by running it."
   ]
  },
  {
   "cell_type": "markdown",
   "metadata": {},
   "source": [
    "As part of this assessment Task 8 was to create this notebook called *weather.ipynb* at the root of your repository and to provide the above explanations to task 1-7 as above.  "
   ]
  },
  {
   "cell_type": "markdown",
   "metadata": {},
   "source": [
    "### Task 9\n",
    "**pandas**\n",
    "\n",
    "In your *weather.ipynb* notebook, use the pandas function read_json() to load in any one of the weather data files you have downloaded with your script. Examine and summarize the data. Use the information provided data.gov.ie to write a short explanation of what the data set contain"
   ]
  },
  {
   "cell_type": "code",
   "execution_count": null,
   "metadata": {
    "vscode": {
     "languageId": "plaintext"
    }
   },
   "outputs": [],
   "source": [
    "# Read the data.\n",
    "df = pd.read_json('data/weather/20241109_124345.json')"
   ]
  },
  {
   "cell_type": "markdown",
   "metadata": {},
   "source": [
    "## References:\n",
    "\n",
    "For this project I reviewed class lecture videos and notes by Dr. Ian McLoughlin.  I also used the following online resources.\n",
    "\n",
    "Laura Brogan 2024\n",
    "    "
   ]
  }
 ],
 "metadata": {
  "language_info": {
   "name": "python"
  }
 },
 "nbformat": 4,
 "nbformat_minor": 2
}
